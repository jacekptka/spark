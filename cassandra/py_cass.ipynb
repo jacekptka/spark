{
 "cells": [
  {
   "cell_type": "code",
   "execution_count": 1,
   "metadata": {},
   "outputs": [],
   "source": [
    "import cassandra;"
   ]
  },
  {
   "cell_type": "code",
   "execution_count": 2,
   "metadata": {},
   "outputs": [],
   "source": [
    "from cassandra.cluster import Cluster"
   ]
  },
  {
   "cell_type": "code",
   "execution_count": 4,
   "metadata": {},
   "outputs": [],
   "source": [
    "cluster = Cluster(['172.17.0.2'])\n",
    "session = cluster.connect()"
   ]
  },
  {
   "cell_type": "code",
   "execution_count": 23,
   "metadata": {},
   "outputs": [
    {
     "name": "stdout",
     "output_type": "stream",
     "text": [
      "z_pythona Email: None\n",
      "user2 Email: email1@domainl.com\n",
      "user1 Email: email1@domainl.com\n",
      "user3 Email: email1@domainl.com\n",
      "user6 Email: email1@domainl.com\n"
     ]
    },
    {
     "data": {
      "text/plain": [
       "<cassandra.cluster.ResultSet at 0x7fe6680f4550>"
      ]
     },
     "execution_count": 23,
     "metadata": {},
     "output_type": "execute_result"
    }
   ],
   "source": [
    "from cassandra import ConsistencyLevel\n",
    "session.default_consistency_level = ConsistencyLevel.QUORUM;\n",
    "\n",
    "results = session.execute(\"SELECT * from ex2.users\")\n",
    "for result in results:\n",
    "    print(result.user_id, \"Email:\", result.email)\n",
    "\n",
    "#Zmiana CL dla jednego query\n",
    "from cassandra.query import SimpleStatement\n",
    "stmt = SimpleStatement(\"SELECT * from ex2.users\", consistency_level=ConsistencyLevel.ONE);\n",
    "session.execute(stmt)\n",
    "\n",
    "    "
   ]
  },
  {
   "cell_type": "code",
   "execution_count": 40,
   "metadata": {},
   "outputs": [
    {
     "name": "stdout",
     "output_type": "stream",
     "text": [
      "user8 Email: None\n",
      "META: [1, 2, 3]\n"
     ]
    },
    {
     "data": {
      "text/plain": [
       "<cassandra.cluster.ResultSet at 0x7fe66807ca90>"
      ]
     },
     "execution_count": 40,
     "metadata": {},
     "output_type": "execute_result"
    }
   ],
   "source": [
    "session.set_keyspace('ex2')\n",
    "#lub session.execute('USE ex2')\n",
    "#session.execute(\"INSERT INTO users (user_id) VALUES ('z_pythona')\")\n",
    "\n",
    "# to samo ze zmienna i w petli\n",
    "#for a in range(10):\n",
    "    #username = \"zenek\"+str(a)\n",
    "    #email = \"zenek@poland.pl\"\n",
    "    #session.execute(\"INSERT INTO users (user_id, email) VALUES (%s, %s)\", [username, email])\n",
    "\n",
    "    \n",
    "#cql: update users set meta['klucz1'] = {'k1': [1,2,3]} WHERE user_id='user8';\n",
    "results = session.execute(\"SELECT * from ex2.users where user_id='user8'\")\n",
    "for result in results:\n",
    "    print(result.user_id, \"Email:\", result.email)\n",
    "    print(\"META:\", result.meta['klucz1']['k1'])\n",
    "    \n",
    "    \n",
    "username = \"marek\"\n",
    "email = \"marek@poland.pl\"\n",
    "meta = {\n",
    "    'klucz1': {\n",
    "        'k1': [1,2,3]\n",
    "    }\n",
    "}\n",
    "session.execute(\"INSERT INTO users (user_id, email, meta) VALUES (%s, %s, %s)\", [username, email, meta])\n"
   ]
  },
  {
   "cell_type": "code",
   "execution_count": 74,
   "metadata": {},
   "outputs": [
    {
     "name": "stdout",
     "output_type": "stream",
     "text": [
      "Took 12.830734252929688 ms\n",
      "GOTOWY! 16.433000564575195\n",
      "GOTOWY! 16.604900360107422\n",
      "GOTOWY! 16.782045364379883\n",
      "GOTOWY! 16.91293716430664\n",
      "GOTOWY! 17.040252685546875\n",
      "GOTOWY! 17.209529876708984\n",
      "GOTOWY! 17.342567443847656\n",
      "GOTOWY! 17.477750778198242\n",
      "GOTOWY! 17.626047134399414\n",
      "GOTOWY! 17.94886589050293\n",
      "GOTOWY! 18.117189407348633\n",
      "GOTOWY! 18.250703811645508\n",
      "GOTOWY! 18.42975616455078\n",
      "GOTOWY! 18.552541732788086\n",
      "GOTOWY! 18.702030181884766\n",
      "GOTOWY! 18.83411407470703\n",
      "GOTOWY! 18.9969539642334\n",
      "GOTOWY! 19.155263900756836\n",
      "GOTOWY! 19.27971839904785\n",
      "GOTOWY! 19.400835037231445\n",
      "GOTOWY! 19.52195167541504\n",
      "GOTOWY! 19.643306732177734\n",
      "GOTOWY! 19.765138626098633\n",
      "GOTOWY! 19.886016845703125\n",
      "GOTOWY! 20.014047622680664\n",
      "GOTOWY! 20.151376724243164\n",
      "GOTOWY! 20.274639129638672\n",
      "GOTOWY! 20.470619201660156\n",
      "GOTOWY! 20.64657211303711\n",
      "GOTOWY! 20.940780639648438\n",
      "GOTOWY! 21.65961265563965\n",
      "GOTOWY! 21.840810775756836\n",
      "GOTOWY! 22.682905197143555\n",
      "GOTOWY! 23.17667007446289\n",
      "GOTOWY! 23.354768753051758\n",
      "GOTOWY! 23.532629013061523\n",
      "GOTOWY! 23.91219139099121\n",
      "GOTOWY! 24.13463592529297\n",
      "GOTOWY! 24.324655532836914\n",
      "GOTOWY! 24.511337280273438\n",
      "GOTOWY! 24.69158172607422\n",
      "GOTOWY! 25.123119354248047\n",
      "GOTOWY! 25.331497192382812\n",
      "GOTOWY! 25.513648986816406\n",
      "GOTOWY! 25.70819854736328\n",
      "GOTOWY! 25.888681411743164\n",
      "GOTOWY! 26.196718215942383\n",
      "GOTOWY! 26.376962661743164\n",
      "GOTOWY! 26.556730270385742\n",
      "GOTOWY! 26.734352111816406\n",
      "GOTOWY! 26.911020278930664\n",
      "GOTOWY! 27.09174156188965\n",
      "GOTOWY! 27.579069137573242\n",
      "GOTOWY! 27.767181396484375\n",
      "GOTOWY! 27.94671058654785\n",
      "GOTOWY! 28.143644332885742\n",
      "GOTOWY! 28.542757034301758\n",
      "GOTOWY! 28.727293014526367\n",
      "GOTOWY! 28.90491485595703\n",
      "GOTOWY! 29.082059860229492\n",
      "GOTOWY! 29.278039932250977\n",
      "GOTOWY! 29.52718734741211\n",
      "GOTOWY! 29.710054397583008\n",
      "GOTOWY! 29.888153076171875\n",
      "GOTOWY! 30.066490173339844\n",
      "GOTOWY! 30.263662338256836\n",
      "GOTOWY! 30.443429946899414\n",
      "GOTOWY! 30.697345733642578\n",
      "GOTOWY! 30.87592124938965\n",
      "GOTOWY! 31.05473518371582\n",
      "GOTOWY! 31.212806701660156\n",
      "GOTOWY! 31.33392333984375\n",
      "GOTOWY! 31.454086303710938\n",
      "GOTOWY! 31.574249267578125\n",
      "GOTOWY! 31.6927433013916\n",
      "GOTOWY! 31.81743621826172\n",
      "GOTOWY! 31.937122344970703\n",
      "GOTOWY! 32.05609321594238\n",
      "GOTOWY! 32.196044921875\n",
      "GOTOWY! 32.31644630432129\n",
      "GOTOWY! 32.450199127197266\n",
      "GOTOWY! 32.56988525390625\n",
      "GOTOWY! 32.68837928771973\n",
      "GOTOWY! 32.807350158691406\n",
      "GOTOWY! 32.93108940124512\n",
      "GOTOWY! 33.04910659790039\n",
      "GOTOWY! 33.19501876831055\n",
      "GOTOWY! 33.37216377258301\n",
      "GOTOWY! 33.55121612548828\n",
      "GOTOWY! 33.72979164123535\n",
      "GOTOWY! 33.89906883239746\n",
      "GOTOWY! 34.41619873046875\n",
      "GOTOWY! 34.59882736206055\n",
      "GOTOWY! 34.775733947753906\n",
      "GOTOWY! 35.230159759521484\n",
      "GOTOWY! 35.45355796813965\n",
      "GOTOWY! 35.65335273742676\n",
      "GOTOWY! 35.865068435668945\n",
      "GOTOWY! 36.0414981842041\n",
      "GOTOWY! 37.70589828491211\n",
      "All took: 38.22660446166992\n"
     ]
    }
   ],
   "source": [
    "from time import time\n",
    "\n",
    "def on_ready(result):\n",
    "    print(\"GOTOWY!\", (time() - start) * 1000)\n",
    "\n",
    "start = time()\n",
    "futures = []\n",
    "for i in range(0,100):\n",
    "    username = \"testuser_\" + str(i)\n",
    "    future = session.execute_async(\"INSERT INTO users (user_id) VALUES(%s)\", [username])\n",
    "    \n",
    "    futures.append(future)\n",
    "    future.add_callback(on_ready)\n",
    "    \n",
    "took = time() - start\n",
    "print(\"Took\", took*1000, \"ms\")\n",
    "\n",
    "for future in futures:\n",
    "    future.result()\n",
    "print(\"All took:\", (time() - start) * 1000)"
   ]
  }
 ],
 "metadata": {
  "kernelspec": {
   "display_name": "Python 3",
   "language": "python",
   "name": "python3"
  },
  "language_info": {
   "codemirror_mode": {
    "name": "ipython",
    "version": 3
   },
   "file_extension": ".py",
   "mimetype": "text/x-python",
   "name": "python",
   "nbconvert_exporter": "python",
   "pygments_lexer": "ipython3",
   "version": "3.5.6"
  }
 },
 "nbformat": 4,
 "nbformat_minor": 2
}
