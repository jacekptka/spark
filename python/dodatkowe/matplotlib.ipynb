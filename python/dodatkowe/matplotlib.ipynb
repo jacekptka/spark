{
 "cells": [
  {
   "cell_type": "markdown",
   "metadata": {},
   "source": [
    "# Matplotlib\n",
    "\n",
    "Matplotlib to najpopularniejsza biblioteka pythonowa służąca generowaniu wykresów.\n",
    "\n",
    "`\"Matplotlib tries to make easy things easy and hard things possible.\"`"
   ]
  },
  {
   "cell_type": "markdown",
   "metadata": {},
   "source": [
    "Matplotlib oferuje kilka sposobów tworzenia wykresów, jednak najczęściej spotykane jest wykorzystywanie modułu `pyplot`, który zwyczajowo importuje się pod aliasem `plt`. \n",
    "\n",
    "Aby tworzone wykresy pojawiały się bezpośrednio w notebooku konieczne jest wykorzystanie wyrażenia IPython magic: `%matplotlib inline`"
   ]
  },
  {
   "cell_type": "code",
   "execution_count": null,
   "metadata": {
    "collapsed": true
   },
   "outputs": [],
   "source": [
    "%matplotlib inline\n",
    "import matplotlib.pyplot as plt"
   ]
  },
  {
   "cell_type": "markdown",
   "metadata": {},
   "source": [
    "Uruchomienie poniższej komórki spowoduje wygenerowanie prostego wykresu."
   ]
  },
  {
   "cell_type": "code",
   "execution_count": null,
   "metadata": {
    "collapsed": true
   },
   "outputs": [],
   "source": [
    "squares = [1,4,9,16,25]\n",
    "plt.plot(squares)\n",
    "plt.show()"
   ]
  },
  {
   "cell_type": "markdown",
   "metadata": {},
   "source": [
    "Matplotlib jest w stanie poradzić sobie z wieloma rodzajami danych wejściowych jak np. listy, ndarray, kolumny DataFrame.\n",
    "\n",
    "Polecenie `plot` jest to podstawowe narzędzie do rysowania, natomiast polecenie `show` wyświetla zdefiniowany wcześniej wykres (polecenie to jest opcjonalne w Notebooku)."
   ]
  },
  {
   "cell_type": "markdown",
   "metadata": {},
   "source": [
    "Wykres składa się z kilku elementów:\n",
    "* `figure` - obiekt z osiami, może zawierać wiele rysunków\n",
    "* `axis` - osie danych w których dana krzywa jest osadzona\n",
    "* `line` - linia na wykresie; w osiach mogą znajdować się też inne rzeczy jak poligony, punkty itp"
   ]
  },
  {
   "cell_type": "markdown",
   "metadata": {},
   "source": [
    "Poniższy kod wygeneruje podobny wykres w którym jednak zmodyfikowane zostaną osie oraz linia, a także dodane zostaną labelki."
   ]
  },
  {
   "cell_type": "code",
   "execution_count": null,
   "metadata": {
    "collapsed": true
   },
   "outputs": [],
   "source": [
    "plt.plot(squares, linewidth=5) # zmiana grubości lini\n",
    "plt.title(\"Kwadraty liczb\", fontsize=24) # tytuł i jego rozmiar\n",
    "plt.xlabel(\"Wartosc\", fontsize=14) # opis osi x\n",
    "plt.ylabel(\"Kwadrat\", fontsize=14) # opis osi y\n",
    "plt.tick_params(axis=\"both\", labelsize=14) # zmiana domyślnych oznaczeń na osiach\n",
    "plt.show()"
   ]
  },
  {
   "cell_type": "markdown",
   "metadata": {},
   "source": [
    "Wykres wygląda zdecydowanie lepiej. Pozostał jednak jeszcze jeden problem - oś `x` zaczyna się od 0 a nie tak jak powinna w tym przypadku od 1. Aby temu zaradzić do polecenia `plot` można podać drugi ciąg wartości odpowiadający `x`-om."
   ]
  },
  {
   "cell_type": "code",
   "execution_count": null,
   "metadata": {
    "collapsed": true
   },
   "outputs": [],
   "source": [
    "input_values = [1,2,3,4,5] # wartości punktów na osi x\n",
    "plt.plot(input_values, squares, linewidth=5) # plot(x,y)\n",
    "plt.title(\"Kwadraty liczb\", fontsize=24)\n",
    "plt.xlabel(\"Wartosc\", fontsize=14)\n",
    "plt.ylabel(\"Kwadrat\", fontsize=14)\n",
    "plt.tick_params(axis=\"both\", labelsize=14)\n",
    "plt.show()"
   ]
  },
  {
   "cell_type": "markdown",
   "metadata": {},
   "source": [
    "Bez problemu do wykresu można dodać również drugą serię danych. Aby tego dokonać wystarczy wywołać polecenie `plot` jeszcze raz."
   ]
  },
  {
   "cell_type": "code",
   "execution_count": null,
   "metadata": {
    "collapsed": true
   },
   "outputs": [],
   "source": [
    "plt.plot(input_values, squares, linewidth=5)\n",
    "plt.plot(list(reversed(input_values)), squares, linewidth=5) # drugie wywołanie polecenia plot\n",
    "plt.title(\"Kwadraty liczb\", fontsize=24)\n",
    "plt.xlabel(\"Wartosc\", fontsize=14)\n",
    "plt.ylabel(\"Kwadrat\", fontsize=14)\n",
    "plt.tick_params(axis=\"both\", labelsize=14)\n",
    "plt.show()"
   ]
  },
  {
   "cell_type": "markdown",
   "metadata": {},
   "source": [
    "> **Ćwiczenie:** Wygeneruj wykres przedstawiający funkcje sinus i cosinus na przedziale od 0 do 10. Wykorzystaj blibliotekę numpy i funckje [linspace](https://docs.scipy.org/doc/numpy-1.13.0/reference/generated/numpy.linspace.html) oraz [sin](https://docs.scipy.org/doc/numpy-1.13.0/reference/generated/numpy.sin.html) i [cos](https://docs.scipy.org/doc/numpy-1.13.0/reference/generated/numpy.cos.html)"
   ]
  },
  {
   "cell_type": "code",
   "execution_count": null,
   "metadata": {
    "collapsed": true
   },
   "outputs": [],
   "source": [
    "import numpy as np\n",
    "# miejsce na kod"
   ]
  },
  {
   "cell_type": "markdown",
   "metadata": {},
   "source": [
    " "
   ]
  },
  {
   "cell_type": "markdown",
   "metadata": {},
   "source": [
    " "
   ]
  },
  {
   "cell_type": "markdown",
   "metadata": {},
   "source": [
    "`plot` to nie jedyne dostępne polecenie służące do generowania wykresów. Kolejnym użytecznym poleceniem jest `scatter` służące, jak nazwa wskazuje, tworzeniu scatter plotów."
   ]
  },
  {
   "cell_type": "code",
   "execution_count": null,
   "metadata": {
    "collapsed": true
   },
   "outputs": [],
   "source": [
    "plt.scatter(2,4)\n",
    "plt.show()"
   ]
  },
  {
   "cell_type": "markdown",
   "metadata": {},
   "source": [
    "Podobnie jak w przypadku `plot` można tu modyfikować wygląd wykresu."
   ]
  },
  {
   "cell_type": "code",
   "execution_count": null,
   "metadata": {
    "collapsed": true
   },
   "outputs": [],
   "source": [
    "plt.scatter(2,4, s=200)\n",
    "plt.title(\"Kwadraty liczb\", fontsize=24)\n",
    "plt.xlabel(\"Wartosc\", fontsize=14)\n",
    "plt.ylabel(\"Kwadrat\", fontsize=14)\n",
    "plt.tick_params(axis=\"both\", labelsize=14)\n",
    "plt.show()"
   ]
  },
  {
   "cell_type": "markdown",
   "metadata": {},
   "source": [
    "Jak również podawać serie danych, a nie tylko pojedyncze punkty."
   ]
  },
  {
   "cell_type": "code",
   "execution_count": null,
   "metadata": {
    "collapsed": true
   },
   "outputs": [],
   "source": [
    "x_values = [1,2,3,4,5]\n",
    "y_values = [1,4,9,16,25]\n",
    "plt.scatter(x_values,y_values, s=100)\n",
    "plt.title(\"Kwadraty liczb\", fontsize=24)\n",
    "plt.xlabel(\"Wartosc\", fontsize=14)\n",
    "plt.ylabel(\"Kwadrat\", fontsize=14)\n",
    "plt.tick_params(axis=\"both\", labelsize=14)\n",
    "plt.show()"
   ]
  },
  {
   "cell_type": "markdown",
   "metadata": {},
   "source": [
    "Podając dostatecznie dużo punktów jesteśmy w stanie przy pomocy `scatter` wygenerować wykres analogiczny do tego jaki można otrzymać przy użyciu `plot`."
   ]
  },
  {
   "cell_type": "code",
   "execution_count": null,
   "metadata": {
    "collapsed": true
   },
   "outputs": [],
   "source": [
    "x_val = list(range(1,1001))\n",
    "y_val = [x**2 for x in x_val]\n",
    "plt.scatter(x_val,y_val, s=40)\n",
    "plt.title(\"Kwadraty liczb\", fontsize=24)\n",
    "plt.xlabel(\"Wartosc\", fontsize=14)\n",
    "plt.ylabel(\"Kwadrat\", fontsize=14)\n",
    "plt.tick_params(axis=\"both\", labelsize=14)\n",
    "plt.axis([0,1100, 0,1100000])\n",
    "plt.show()"
   ]
  },
  {
   "cell_type": "markdown",
   "metadata": {},
   "source": [
    "Każdy punkt wygenerowany przy pomocy `scatter` składa się z \"krawędzi\" i \"punktu właściwego\". Możliwe jest modyfikowanie tych elementów. W poniższej komórce usunięte zostały krawędzie punktów a kolor samego punktu zmieniono na czerwony."
   ]
  },
  {
   "cell_type": "code",
   "execution_count": null,
   "metadata": {
    "collapsed": true
   },
   "outputs": [],
   "source": [
    "plt.scatter(x_val,y_val, c=\"r\", edgecolor=\"none\", s=40) \n",
    "plt.title(\"Kwadraty liczb\", fontsize=24)\n",
    "plt.xlabel(\"Wartosc\", fontsize=14)\n",
    "plt.ylabel(\"Kwadrat\", fontsize=14)\n",
    "plt.tick_params(axis=\"both\", labelsize=14)\n",
    "plt.axis([0,1100, 0,1100000])\n",
    "plt.show()"
   ]
  },
  {
   "cell_type": "markdown",
   "metadata": {},
   "source": [
    "Kolory można przypisywać na wiele sposobów, listę dostępnych możliwości można znaleźć [tutaj](https://matplotlib.org/api/colors_api.html). W poniższym przykładzie zastosowano mapę kolorów."
   ]
  },
  {
   "cell_type": "code",
   "execution_count": null,
   "metadata": {
    "collapsed": true
   },
   "outputs": [],
   "source": [
    "plt.scatter(x_val,y_val, c=y_val, cmap=plt.cm.Blues, edgecolor=\"none\", s=40)\n",
    "plt.title(\"Kwadraty liczb\", fontsize=24)\n",
    "plt.xlabel(\"Wartosc\", fontsize=14)\n",
    "plt.ylabel(\"Kwadrat\", fontsize=14)\n",
    "plt.tick_params(axis=\"both\", labelsize=14)\n",
    "plt.axis([0,1100, 0,1100000])\n",
    "plt.show()"
   ]
  },
  {
   "cell_type": "markdown",
   "metadata": {},
   "source": [
    "> **Ćwiczenie:** Wygeneruj scatter plot losowych 100 punktów, których wartości x i y mieszczą się w przedziale od 0 do 1. Uzależnij kolor oraz wielkość punktów od iloczynów ich wartości. Do wygenerowania danych wykorzystaj funkcję [rand](https://docs.scipy.org/doc/numpy-1.13.0/reference/generated/numpy.random.rand.html) z biblioteki numpy."
   ]
  },
  {
   "cell_type": "code",
   "execution_count": null,
   "metadata": {
    "collapsed": true
   },
   "outputs": [],
   "source": [
    "# miejsce na kod\n",
    "\n",
    "plt.scatter(x, y, s=area, c=colors, alpha=0.5) # wzór wywołania scatter"
   ]
  },
  {
   "cell_type": "markdown",
   "metadata": {},
   "source": [
    " "
   ]
  },
  {
   "cell_type": "markdown",
   "metadata": {},
   "source": [
    " "
   ]
  },
  {
   "cell_type": "markdown",
   "metadata": {},
   "source": [
    "### Generowanie wykresu błądzenia losowego\n",
    "\n",
    "Poniższy przykład ma na celu zaprezentowanie bardziej widowiskowego wykorzystania możliwości oferowanych przez `scatter`."
   ]
  },
  {
   "cell_type": "code",
   "execution_count": null,
   "metadata": {
    "collapsed": true
   },
   "outputs": [],
   "source": [
    "from random import choice\n",
    "\n",
    "# utworzenie klasy RandomWalk której metoda fill_walk generuje serię kolejnych losowych kroków\n",
    "class RandomWalk():\n",
    "    def __init__(self, num_points=5000):\n",
    "        self.num_points = num_points\n",
    "        \n",
    "        self.x_values = [0]\n",
    "        self.y_values = [0]\n",
    "    \n",
    "    def fill_walk(self):\n",
    "        while len(self.x_values) < self.num_points:\n",
    "            x_direction = choice([1,-1])\n",
    "            x_distance = choice([0,1,2,3,4])\n",
    "            x_step = x_direction * x_distance\n",
    "            \n",
    "            y_direction = choice([1,-1])\n",
    "            y_distance = choice([0,1,2,3,4])\n",
    "            y_step = y_direction * y_distance\n",
    "            \n",
    "            if x_step == 0 and y_step == 0:\n",
    "                continue\n",
    "            next_x = self.x_values[-1] + x_step\n",
    "            next_y = self.y_values[-1] + y_step\n",
    "            \n",
    "            self.x_values.append(next_x)\n",
    "            self.y_values.append(next_y)"
   ]
  },
  {
   "cell_type": "code",
   "execution_count": null,
   "metadata": {
    "collapsed": true
   },
   "outputs": [],
   "source": [
    "# utworzenie obiektu i wywołanie metody fill_walk\n",
    "rw = RandomWalk()\n",
    "rw.fill_walk()\n",
    "# wygenerowanie wykresu\n",
    "plt.scatter(rw.x_values, rw.y_values, s=15)\n",
    "plt.show()"
   ]
  },
  {
   "cell_type": "code",
   "execution_count": null,
   "metadata": {
    "collapsed": true
   },
   "outputs": [],
   "source": [
    "# uatrakcyjnienie wykresu\n",
    "point_numbers = list(range(rw.num_points))\n",
    "plt.scatter(rw.x_values, rw.y_values, c=point_numbers, cmap=plt.cm.Blues, edgecolor=\"none\", s=15) # dodanie mapy koloru\n",
    "plt.scatter(0,0, c=\"green\", edgecolors=\"none\", s=100) # zaznaczenie punktu startowego\n",
    "plt.scatter(rw.x_values[-1], rw.y_values[-1], c=\"red\", edgecolors=\"none\", s=100) # zaznaczenie punktu końcowego\n",
    "plt.axes().get_xaxis().set_visible(False) # ukrycie osi\n",
    "plt.axes().get_yaxis().set_visible(False)\n",
    "plt.show()"
   ]
  },
  {
   "cell_type": "code",
   "execution_count": null,
   "metadata": {
    "collapsed": true
   },
   "outputs": [],
   "source": [
    "# ostatnie szlify\n",
    "rw_big = RandomWalk(50000) # wygenerowanie większej liczby punktów\n",
    "rw_big.fill_walk()\n",
    "point_num = list(range(rw_big.num_points))\n",
    "plt.rcParams['figure.figsize'] = (11, 11) # zwiększenie rozmiaru wykresu\n",
    "plt.scatter(rw_big.x_values, rw_big.y_values, c=point_num, cmap=plt.cm.Blues, edgecolor=\"none\", s=1) # mapa koloru\n",
    "plt.scatter(0,0, c=\"green\", edgecolors=\"none\", s=15) # punkt startowy\n",
    "plt.scatter(rw_big.x_values[-1], rw_big.y_values[-1], c=\"red\", edgecolors=\"none\", s=15) # punkt końcowy\n",
    "plt.axes().get_xaxis().set_visible(False) # ukrycie osi\n",
    "plt.axes().get_yaxis().set_visible(False)\n",
    "plt.show()"
   ]
  },
  {
   "cell_type": "markdown",
   "metadata": {},
   "source": [
    " "
   ]
  },
  {
   "cell_type": "markdown",
   "metadata": {},
   "source": [
    " "
   ]
  },
  {
   "cell_type": "markdown",
   "metadata": {},
   "source": [
    " "
   ]
  },
  {
   "cell_type": "markdown",
   "metadata": {},
   "source": [
    "`hist` to kolejne użyteczne polecenie, pozwala ono na generowanie histogramów."
   ]
  },
  {
   "cell_type": "code",
   "execution_count": null,
   "metadata": {
    "collapsed": true
   },
   "outputs": [],
   "source": [
    "mu, sigma = 0, 20\n",
    "hist_data = mu + sigma * np.random.randn(10000)\n",
    "plt.hist(hist_data, bins=50, normed=True, color=\"g\")\n",
    "plt.show()"
   ]
  },
  {
   "cell_type": "markdown",
   "metadata": {},
   "source": [
    "> **Ćwiczenie:** Wygeneruj histogram rozkładu jednostajnego dla 10000 punktów. Wykorzystaj funkcję [rand](https://docs.scipy.org/doc/numpy-1.13.0/reference/generated/numpy.random.rand.html). Stwórz 100 binów, oraz zmień orientację wykresu. W razie problemów kliknij [tutaj](https://matplotlib.org/devdocs/api/_as_gen/matplotlib.pyplot.hist.html)."
   ]
  },
  {
   "cell_type": "code",
   "execution_count": null,
   "metadata": {
    "collapsed": true
   },
   "outputs": [],
   "source": [
    "# miejsce na kod\n"
   ]
  },
  {
   "cell_type": "markdown",
   "metadata": {},
   "source": [
    " "
   ]
  },
  {
   "cell_type": "markdown",
   "metadata": {},
   "source": [
    " "
   ]
  },
  {
   "cell_type": "markdown",
   "metadata": {},
   "source": [
    "`bar` może być wykorzystany np. tam gdzie format danych nie pozwala na zastosowanie polecenia `hist`. Zdarza się tak gdy dane które mają zostać zwizualizowane są następującej postaci: etykieta - liczba wystąpień"
   ]
  },
  {
   "cell_type": "code",
   "execution_count": null,
   "metadata": {
    "collapsed": true
   },
   "outputs": [],
   "source": [
    "b_data = [17,23,81,24,13,65]\n",
    "b_label = [\"czerwony\",\"zielony\",\"żółty\",\"brązowy\",\"fioletowy\",\"niebieski\"]"
   ]
  },
  {
   "cell_type": "code",
   "execution_count": null,
   "metadata": {
    "collapsed": true
   },
   "outputs": [],
   "source": [
    "b_placeholder = list(range(len(b_data)))\n",
    "\n",
    "plt.bar(b_placeholder,b_data) # x nie może być stringiem\n",
    "plt.xticks(b_placeholder, b_label, rotation = 45) # podmienienie int na string, ustawienie kąta wyświetlania labelek\n",
    "plt.tick_params(axis=\"both\", labelsize=14)\n",
    "plt.show()"
   ]
  },
  {
   "cell_type": "markdown",
   "metadata": {},
   "source": [
    "> **Ćwiczenie:** Wygeneruj barplot z trzema \"kolumnami\" o wysokościach: 10,20,30; z labelkami: brąz, srebro, złoto. Na osi `y` mają być zaznaczone tylko 3 punkty odpowiadające wysokościom poszczególnych \"kolumn\", zamiast wartości liczbowych mają one wyświetlać napisy: trzeci, drugi, pierwszy."
   ]
  },
  {
   "cell_type": "code",
   "execution_count": null,
   "metadata": {
    "collapsed": true
   },
   "outputs": [],
   "source": [
    "# miejsce na kod\n"
   ]
  },
  {
   "cell_type": "markdown",
   "metadata": {},
   "source": [
    "\n"
   ]
  },
  {
   "cell_type": "markdown",
   "metadata": {},
   "source": [
    "\n"
   ]
  },
  {
   "cell_type": "markdown",
   "metadata": {},
   "source": [
    "### Wiele wykresów na jednym obrazku\n",
    "\n",
    "Matplotlib pozwala na umieszczanie na jednym obrazku więcej niż jednego wykresu, tzw. subplotów.\n",
    "Poniżej zaprezentowano jak tego dokonać"
   ]
  },
  {
   "cell_type": "code",
   "execution_count": null,
   "metadata": {
    "collapsed": true
   },
   "outputs": [],
   "source": [
    "plt.figure(1) # odwołanie się do pustej figury w której umieszczone zostaną wykresy\n",
    "plt.subplot(211) # subplot(nrows,ncols,index)\n",
    "plt.hist(hist_data, bins=50, normed=True, color=\"g\")\n",
    "\n",
    "plt.subplot(212)\n",
    "plt.plot(input_values, squares, linewidth=5)\n",
    "plt.plot(list(reversed(input_values)), squares, linewidth=5)\n",
    "plt.title(\"Kwadraty liczb\", fontsize=24)\n",
    "plt.xlabel(\"Wartosc\", fontsize=14)\n",
    "plt.ylabel(\"Kwadrat\", fontsize=14)\n",
    "plt.tick_params(axis=\"both\", labelsize=14)\n",
    "plt.show()"
   ]
  },
  {
   "cell_type": "markdown",
   "metadata": {},
   "source": [
    "> **Ćwiczenie:** Wygeneruj obrazek składający się z 4 różnych wykresów (wykresy mają nie zawierać oznaczeń na osiach):\n",
    "* czerwony, pogrubiony X (`plot`)\n",
    "* V z kropkami na krańcach (`plot`)\n",
    "* mały trójkąt wewnątrz dużego trójkąta (`scatter`)\n",
    "* \"dwie wieże\" (`hist`)"
   ]
  },
  {
   "cell_type": "code",
   "execution_count": null,
   "metadata": {
    "collapsed": true
   },
   "outputs": [],
   "source": [
    "# miejsce na kod\n"
   ]
  }
 ],
 "metadata": {
  "kernelspec": {
   "display_name": "Python [default]",
   "language": "python",
   "name": "python3"
  },
  "language_info": {
   "codemirror_mode": {
    "name": "ipython",
    "version": 3
   },
   "file_extension": ".py",
   "mimetype": "text/x-python",
   "name": "python",
   "nbconvert_exporter": "python",
   "pygments_lexer": "ipython3",
   "version": "3.6.2"
  }
 },
 "nbformat": 4,
 "nbformat_minor": 2
}
