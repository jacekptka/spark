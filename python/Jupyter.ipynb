{
 "cells": [
  {
   "cell_type": "markdown",
   "metadata": {},
   "source": [
    "# Jupyter Notebook - ćwiczenia\n",
    "\n",
    "Uruchom komórkę poniżej. Możesz tego dokonać wybierając komórkę i klikając przycisk \"run cell\" z listy powyżej. Wygodniej jest jednak nacisnąć **Shift + Enter** aby nie odrywać rąk od klawiatury."
   ]
  },
  {
   "cell_type": "code",
   "execution_count": null,
   "metadata": {
    "collapsed": true
   },
   "outputs": [],
   "source": [
    "# Wybierz komórkę i naciśnij Shift + Enter\n",
    "3**2"
   ]
  },
  {
   "cell_type": "markdown",
   "metadata": {},
   "source": [
    "**Shift + Enter** uruchamia komórkę i wybiera kolejną następującą po niej lub tworzy nową jeśli uruchomiona została ostatnia komórka. Aby uruchomić komórkę bez wybrania następnej należy nacisnąć **Control + Enter**.\n",
    "\n",
    "Wynik wyświetla się poniżej komórki. Pokazywany jest jednak tylko ostatni wynik z komórki, więc aby zobaczyć więcej konieczne jest użycie polecenia `print()`. \n",
    "\n",
    "> **Ćwiczenie:** Uruchom poniższe komórki."
   ]
  },
  {
   "cell_type": "code",
   "execution_count": null,
   "metadata": {
    "collapsed": true
   },
   "outputs": [],
   "source": [
    "3**2\n",
    "4**2"
   ]
  },
  {
   "cell_type": "code",
   "execution_count": null,
   "metadata": {
    "collapsed": true
   },
   "outputs": [],
   "source": [
    "print(3**2)\n",
    "4**2"
   ]
  },
  {
   "cell_type": "markdown",
   "metadata": {},
   "source": [
    "Przypisywanie wartości do zmiennej"
   ]
  },
  {
   "cell_type": "code",
   "execution_count": null,
   "metadata": {
    "collapsed": true
   },
   "outputs": [],
   "source": [
    "zmienna = \"sparky\""
   ]
  },
  {
   "cell_type": "markdown",
   "metadata": {},
   "source": [
    "Przypisanie zmiennej nie powoduje wyświetlenia żadnego outputu. Wszystkie zmienne, funkcje i klasy stworzone w jakiejkolwiek komórce dostępne są we wszystkich pozostałych w notebooku."
   ]
  },
  {
   "cell_type": "code",
   "execution_count": null,
   "metadata": {
    "collapsed": true
   },
   "outputs": [],
   "source": [
    "zmienna[:5]"
   ]
  },
  {
   "cell_type": "markdown",
   "metadata": {},
   "source": [
    "## Uzupełnianie kodu\n",
    "\n",
    "Podczas pisania kodu często wykorzystuje się te same zmienne czy funkcje wielokrotnie. Aby zaoszczędzić czas można wykorzystać wtedy uzupełnianie kodu. Aby z niego skorzystać po wpisaniu części nazwy wystarczy nacisnąć **tab**.\n",
    "\n",
    "> **Ćwiczenie:** Ustaw kursor na końcu `zmien` w następnej komórce i naciśnij **tab**"
   ]
  },
  {
   "cell_type": "code",
   "execution_count": null,
   "metadata": {
    "collapsed": true
   },
   "outputs": [],
   "source": [
    "zmien"
   ]
  },
  {
   "cell_type": "markdown",
   "metadata": {},
   "source": [
    "W tym wypadku  uzupełnienie `zmien` wypisuje pełną nazwę zmiennej `zmienna`. W przypadku kilku nazw zaczynających się tak samo wyświetlone zostanie menu."
   ]
  },
  {
   "cell_type": "code",
   "execution_count": null,
   "metadata": {
    "collapsed": true
   },
   "outputs": [],
   "source": [
    "# Uruchom komórkę\n",
    "zmienny = True"
   ]
  },
  {
   "cell_type": "code",
   "execution_count": null,
   "metadata": {
    "collapsed": true
   },
   "outputs": [],
   "source": [
    "# Uzupełnij nazwę, wybierz jedną z listy\n",
    "zmien"
   ]
  },
  {
   "cell_type": "markdown",
   "metadata": {},
   "source": [
    "Uzupełnianie kodu jest przydatne również w przypadku wykorzystywania modułów gdy nie do końca pamiętasz jakiej funkcji szukasz lub jakie są dostępne. Przedstawione zostanie to poniżej na przykładzie modułu [random](https://docs.python.org/3/library/random.html). Dostarcza on funkcji służących generowaniu liczb losowych."
   ]
  },
  {
   "cell_type": "code",
   "execution_count": null,
   "metadata": {
    "collapsed": true
   },
   "outputs": [],
   "source": [
    "# Uruchom\n",
    "import random"
   ]
  },
  {
   "cell_type": "markdown",
   "metadata": {},
   "source": [
    "> **Ćwiczenie:** W komórce poniżej umieść kursor za `random.` i naciśnij **tab** aby wyświetlić menu dla modułu. Wybierz z listy `random.randint`. Możesz poruszać się w górę i w dół menu wykorzystując strzałki."
   ]
  },
  {
   "cell_type": "code",
   "execution_count": null,
   "metadata": {
    "collapsed": true
   },
   "outputs": [],
   "source": [
    "random."
   ]
  },
  {
   "cell_type": "markdown",
   "metadata": {},
   "source": [
    "Powyżej powinieneś zobaczyć wszystkie funkcje dostępne w module random. Załóżmy że szukasz funkcji do losowania losowych liczb z [rozkładu normalnego](https://en.wikipedia.org/wiki/Normal_distribution). \n",
    "\n",
    "## Tooltips\n",
    "\n",
    "Mimo że uzupełnianie kodu pozwala znaleźć funkcję `random.gauss` to nie daje informacji jak jej używać. Zawsze można sprawdzić [dokumentację](https://docs.python.org/3/library/random.html), jednak Jupyter pozwala sprawdzić dokumentację bezpośrednio w notebooku.\n",
    "\n",
    "> **Ćwiczenie:** W komórce poniżej ustaw kursor za `random.gauss` i naciśnij **shift + tab** aby wyświetlić tooltip."
   ]
  },
  {
   "cell_type": "code",
   "execution_count": null,
   "metadata": {
    "collapsed": true
   },
   "outputs": [],
   "source": [
    "random.gauss"
   ]
  },
  {
   "cell_type": "markdown",
   "metadata": {},
   "source": [
    "Powinieneś zobaczyć coś takiego:\n",
    "\n",
    "    Signature: random.gauss(mu, sigma)\n",
    "    Docstring:\n",
    "    Gaussian distribution.\n",
    "    \n",
    "Funkcja przyjmuje dwa argumenty: `mu` i `sigma`. Są to standardowe oznaczenia średniej i odchylenie standardowego rozkładu normalnego. W celu wyświetlenia obszerniejszej informacji naciśnij **shift + tab** dwókrotnie.\n",
    "\n",
    "> **Ćwiczenie:** W komórce poniżej pokaż pełną informację naciskając **shift + tab** dwa razy."
   ]
  },
  {
   "cell_type": "code",
   "execution_count": null,
   "metadata": {
    "collapsed": true
   },
   "outputs": [],
   "source": [
    "random.gauss"
   ]
  },
  {
   "cell_type": "markdown",
   "metadata": {},
   "source": [
    "Powinieneś zobaczyć coś takiego:\n",
    "\n",
    "    mu is the mean, and sigma is the standard deviation.  This is\n",
    "    slightly faster than the normalvariate() function."
   ]
  },
  {
   "cell_type": "markdown",
   "metadata": {},
   "source": [
    "# Skróty klawiaturowe\n",
    "\n",
    "Używanie skrótów znacząco przyśpiesza szybkość pracy z notebookiem.\n",
    "\n",
    "Przełączanie między `edit mode` a `command mode`. `Edit mode` pozwala na pisanie w komórkach podczas gdy `command mode` wykonuje polecenia, jak np. tworzenie nowej komórki, przy naciśnięciu odpowiednich przycisków. Podczas wybrania komórki w łatwy sposób można rozpoznać tryb po kolorach po lewej stronie komórki: zielony = edit, niebieski = command. Ponadto w `edit mode` w komórce powinien być widoczny kursor.\n",
    "\n",
    "Domyślnie tworząc nową komórkę lub przechodząc do następnej notebook znajduje się w `command mode`. Aby przełączyć się na `edit mode` wystarczy nacisnąć Enter. Chcąc wrócić do `command mode` należy nacisnąć Escape. \n",
    "\n",
    "> **Ćwiczenie:** Kliknij na tą komórkę, następnie naciśnij **Enter + Shift** aby przejść do następnej komórki. Przełącz między `command mode` a `edit mode` kilka razy."
   ]
  },
  {
   "cell_type": "code",
   "execution_count": null,
   "metadata": {
    "collapsed": true
   },
   "outputs": [],
   "source": [
    "# ćwiczenie ze zmiany trybu"
   ]
  },
  {
   "cell_type": "markdown",
   "metadata": {},
   "source": [
    "## Pomoc ze skrótami\n",
    "\n",
    "Dostępne skróty można znaleźć w menu `Help` lub po naciśnięciu `H` będąc w `command mode`."
   ]
  },
  {
   "cell_type": "markdown",
   "metadata": {},
   "source": [
    "## Tworzenie komórek\n",
    "\n",
    "Jedną z najczęściej wykorzystywanych komend jest tworzenie nowych komórek. Aby stworzyć komórkę powyżej obecnie wybranej, będąc w `command mode` należy nacisnąć `A`, aby stworzyć komórkę poniżej - `B`."
   ]
  },
  {
   "cell_type": "markdown",
   "metadata": {},
   "source": [
    "> **Ćwiczenie:** Stwórz komórkę powyżej tej komórki wykorzystując odpowiedni skrót."
   ]
  },
  {
   "cell_type": "markdown",
   "metadata": {},
   "source": [
    "> **Ćwiczenie:** Stwórz komórkę poniżej tej komórki wykorzystując odpowiedni skrót."
   ]
  },
  {
   "cell_type": "markdown",
   "metadata": {},
   "source": [
    "## Przełączanie między Markdawn a kodem\n",
    "\n",
    "Wykorzystując skróty moża łatwo przełączać się pomiędzy komórkami z Markdown i kodem. Aby przełączyć się z Markdown na kod należy, będąć w `command mode`, nacisnąć `Y`, zmiana w drugą stronę nastąpi po naciśnięciu `M`.\n",
    "\n",
    "> **Ćwiczenie:** Przełącz komórkę poniżej z kodu na Markdown i spowrotem."
   ]
  },
  {
   "cell_type": "code",
   "execution_count": null,
   "metadata": {
    "collapsed": true
   },
   "outputs": [],
   "source": [
    "## Przełącz\n",
    "\n",
    "def fibo(n): # Recursive Fibonacci sequence!\n",
    "    if n == 0:\n",
    "        return 0\n",
    "    elif n == 1:\n",
    "        return 1\n",
    "    return fibo(n-1) + fibo(n-2)"
   ]
  },
  {
   "cell_type": "markdown",
   "metadata": {},
   "source": [
    "## Numery lini\n",
    "\n",
    "Często pomocne jest wyświetlanie numerów lini. Można je włączyć naciskając `L` na komórce z kodem.\n",
    "\n",
    "> **Ćwiczenie:** Włącz i wyłącz numery lini w komórce powyżej."
   ]
  },
  {
   "cell_type": "markdown",
   "metadata": {},
   "source": [
    "## Usuwanie komórek\n",
    "\n",
    "Wybraną komórkę można usunąć naciskając `D` dwukrotnie będąc w `command mode`.\n",
    "\n",
    "> **Ćwiczenie:** Usuń komórkę poniżej."
   ]
  },
  {
   "cell_type": "code",
   "execution_count": null,
   "metadata": {
    "collapsed": true
   },
   "outputs": [],
   "source": []
  },
  {
   "cell_type": "markdown",
   "metadata": {},
   "source": [
    "## Zapisywanie notebooka\n",
    "\n",
    "Notebooki są zapisywane automatycznie co jakiś czas, jednak aby mieć pewność, że postęp został zapisany można je zapisywać ręcznie naciskając `S`."
   ]
  },
  {
   "cell_type": "markdown",
   "metadata": {},
   "source": [
    "## Koniec\n",
    "\n",
    "Istnieje wiele innych użytecznych opcji i funkcji dostępnych w notebookach. Warto pamiętać o przycisku `H` będąc w `command mode`."
   ]
  }
 ],
 "metadata": {
  "kernelspec": {
   "display_name": "Python [default]",
   "language": "python",
   "name": "python3"
  },
  "language_info": {
   "codemirror_mode": {
    "name": "ipython",
    "version": 3
   },
   "file_extension": ".py",
   "mimetype": "text/x-python",
   "name": "python",
   "nbconvert_exporter": "python",
   "pygments_lexer": "ipython3",
   "version": "3.6.2"
  }
 },
 "nbformat": 4,
 "nbformat_minor": 2
}
