{
 "cells": [
  {
   "cell_type": "code",
   "execution_count": 1,
   "metadata": {
    "collapsed": true
   },
   "outputs": [],
   "source": [
    "%matplotlib inline\n",
    "import matplotlib.pyplot as plt\n",
    "import pyspark\n",
    "import os\n",
    "os.environ['PYSPARK_PYTHON'] = '/opt/anaconda3/bin/python3'\n",
    "sc = pyspark.SparkContext(master=\"local[4]\",appName=\"RDDfun\")"
   ]
  },
  {
   "cell_type": "markdown",
   "metadata": {},
   "source": [
    "## Ford GoBike's trip data\n",
    "\n",
    "https://www.fordgobike.com/system-data\n",
    "\n",
    "\n",
    "Each trip is anonymized and includes:\n",
    "- Trip Duration (seconds)\n",
    "- Start Time and Date\n",
    "- End Time and Date\n",
    "- Start Station ID\n",
    "- Start Station Name\n",
    "- Start Station Latitude\n",
    "- Start Station Longitude\n",
    "- End Station ID\n",
    "- End Station Name\n",
    "- End Station Latitude\n",
    "- End Station Longitude\n",
    "- Bike ID\n",
    "- User Type (Subscriber or Customer – “Subscriber” = Member or “Customer” = Casual)\n",
    "- Member Year of Birth\n",
    "- Member Gender\n"
   ]
  },
  {
   "cell_type": "code",
   "execution_count": 2,
   "metadata": {
    "scrolled": true
   },
   "outputs": [
    {
     "data": {
      "text/plain": [
       "['\"duration_sec\",\"start_time\",\"end_time\",\"start_station_id\",\"start_station_name\",\"start_station_latitude\",\"start_station_longitude\",\"end_station_id\",\"end_station_name\",\"end_station_latitude\",\"end_station_longitude\",\"bike_id\",\"user_type\",\"member_birth_year\",\"member_gender\"',\n",
       " '\"80110\",\"2017-12-31 16:57:39.6540\",\"2018-01-01 15:12:50.2450\",\"74\",\"Laguna St at Hayes St\",\"37.776434819204745\",\"-122.42624402046204\",\"43\",\"San Francisco Public Library (Grove St at Hyde St)\",\"37.7787677\",\"-122.4159292\",\"96\",\"Customer\",\"1987\",\"Male\"']"
      ]
     },
     "execution_count": 2,
     "metadata": {},
     "output_type": "execute_result"
    }
   ],
   "source": [
    "rawData = sc.textFile(\"../2017-fordgobike-tripdata.csv\")\n",
    "rawData.take(2)"
   ]
  },
  {
   "cell_type": "code",
   "execution_count": 64,
   "metadata": {},
   "outputs": [
    {
     "data": {
      "text/plain": [
       "['duration_sec',\n",
       " 'start_time',\n",
       " 'end_time',\n",
       " 'start_station_id',\n",
       " 'start_station_name',\n",
       " 'start_station_latitude',\n",
       " 'start_station_longitude',\n",
       " 'end_station_id',\n",
       " 'end_station_name',\n",
       " 'end_station_latitude',\n",
       " 'end_station_longitude',\n",
       " 'bike_id',\n",
       " 'user_type',\n",
       " 'member_birth_year',\n",
       " 'member_gender']"
      ]
     },
     "execution_count": 64,
     "metadata": {},
     "output_type": "execute_result"
    }
   ],
   "source": [
    "col_names = rawData.filter(lambda x: x.startswith('\"duration'))\\\n",
    ".flatMap(lambda x: x.split(\",\")).map(lambda x: x[1:-1]).collect()\n",
    "col_names"
   ]
  },
  {
   "cell_type": "markdown",
   "metadata": {},
   "source": [
    "[datetime](https://docs.python.org/3/library/datetime.html#module-datetime)"
   ]
  },
  {
   "cell_type": "code",
   "execution_count": 65,
   "metadata": {
    "collapsed": true
   },
   "outputs": [],
   "source": [
    "from datetime import datetime, timedelta\n",
    "dt_format = \"%Y-%m-%d %H:%M:%S.%f\""
   ]
  },
  {
   "cell_type": "markdown",
   "metadata": {},
   "source": [
    "++++++++++++++++++++++++++++++++++++++++++++++++++++++++++++++++++++++++++++++++++++++++++++++++++++++++++++++++++"
   ]
  },
  {
   "cell_type": "markdown",
   "metadata": {},
   "source": [
    "> **TODO**: Utwórz RDD `transData` gdzie elementami są listy stringów (odfiltruj element zawierający nazwy)"
   ]
  },
  {
   "cell_type": "code",
   "execution_count": 68,
   "metadata": {},
   "outputs": [
    {
     "data": {
      "text/plain": [
       "[['80110',\n",
       "  '2017-12-31 16:57:39.6540',\n",
       "  '2018-01-01 15:12:50.2450',\n",
       "  '74',\n",
       "  'Laguna St at Hayes St',\n",
       "  '37.776434819204745',\n",
       "  '-122.42624402046204',\n",
       "  '43',\n",
       "  'San Francisco Public Library (Grove St at Hyde St)',\n",
       "  '37.7787677',\n",
       "  '-122.4159292',\n",
       "  '96',\n",
       "  'Customer',\n",
       "  '1987',\n",
       "  'Male'],\n",
       " ['78800',\n",
       "  '2017-12-31 15:56:34.8420',\n",
       "  '2018-01-01 13:49:55.6170',\n",
       "  '284',\n",
       "  'Yerba Buena Center for the Arts (Howard St at 3rd St)',\n",
       "  '37.78487208436062',\n",
       "  '-122.40087568759917',\n",
       "  '96',\n",
       "  'Dolores St at 15th St',\n",
       "  '37.7662102',\n",
       "  '-122.4266136',\n",
       "  '88',\n",
       "  'Customer',\n",
       "  '1965',\n",
       "  'Female']]"
      ]
     },
     "execution_count": 68,
     "metadata": {},
     "output_type": "execute_result"
    }
   ],
   "source": [
    "transData = rawData.filter(lambda x: not x.startswith('\"duration')).map(lambda x: [y[1:-1] for y in x.split(\",\")])\n",
    "transData.take(2)"
   ]
  },
  {
   "cell_type": "markdown",
   "metadata": {},
   "source": [
    "> **TODO**: Sprawdź czy, gdzie i w ilu rekordach występują braki danych w RDD `transData` (hint: elementami RDD są listy stringów)"
   ]
  },
  {
   "cell_type": "code",
   "execution_count": 59,
   "metadata": {},
   "outputs": [
    {
     "data": {
      "text/plain": [
       "[['45768',\n",
       "  '2017-12-31 22:45:48.4110',\n",
       "  '2018-01-01 11:28:36.8830',\n",
       "  '245',\n",
       "  'Downtown Berkeley BART',\n",
       "  '37.8703477',\n",
       "  '-122.2677637',\n",
       "  '245',\n",
       "  'Downtown Berkeley BART',\n",
       "  '37.8703477',\n",
       "  '-122.2677637',\n",
       "  '1094',\n",
       "  'Customer',\n",
       "  '',\n",
       "  ''],\n",
       " ['62172',\n",
       "  '2017-12-31 17:31:10.6360',\n",
       "  '2018-01-01 10:47:23.5310',\n",
       "  '60',\n",
       "  '8th St at Ringold St',\n",
       "  '37.77452040113685',\n",
       "  '-122.4094493687153',\n",
       "  '5',\n",
       "  'Powell St BART Station (Market St at 5th St)',\n",
       "  '37.783899357084934',\n",
       "  '-122.40844488143921',\n",
       "  '2831',\n",
       "  'Customer',\n",
       "  '',\n",
       "  '']]"
      ]
     },
     "execution_count": 59,
     "metadata": {},
     "output_type": "execute_result"
    }
   ],
   "source": [
    "#czy\n",
    "transData.filter(lambda x: \"\" in x).take(2)\n",
    "\n"
   ]
  },
  {
   "cell_type": "code",
   "execution_count": 43,
   "metadata": {},
   "outputs": [
    {
     "data": {
      "text/plain": [
       "[13, 14]"
      ]
     },
     "execution_count": 43,
     "metadata": {},
     "output_type": "execute_result"
    }
   ],
   "source": [
    "#gdzie\n",
    "transData.flatMap(lambda row: [i for i,x in enumerate(row) if x ==\"\"]).distinct().collect()"
   ]
  },
  {
   "cell_type": "code",
   "execution_count": 44,
   "metadata": {},
   "outputs": [
    {
     "data": {
      "text/plain": [
       "66541"
      ]
     },
     "execution_count": 44,
     "metadata": {},
     "output_type": "execute_result"
    }
   ],
   "source": [
    "#ile\n",
    "transData.filter(lambda x: \"\" in x).count()"
   ]
  },
  {
   "cell_type": "markdown",
   "metadata": {},
   "source": [
    "> **TODO**: Uwzględniając informacje uzyskane w poprzednim ćwiczeniu utwórz RDD `data` którego elementy będą słownikami. Słowniki te mają zawierać klucze o wartościach następujących typów:\n",
    "- 'duration_sec' : \"int\"\n",
    "- 'start_time' : \"datetime\"\n",
    "- 'end_time' : \"datetime\"\n",
    "- 'start_station_id' : \"int\"\n",
    "- 'start_station_name' : \"string\"\n",
    "- 'start_station_latitude' : \"float\"\n",
    "- 'start_station_longitude' : \"float\"\n",
    "- 'end_station_id' : \"int\"\n",
    "- 'end_station_name' : \"string\"\n",
    "- 'end_station_latitude' : \"float\"\n",
    "- 'end_station_longitude' : \"float\"\n",
    "- 'bike_id' : \"int\"\n",
    "- 'user_type' : \"string\"\n",
    "- 'member_birth_year' : \"int\"\n",
    "- 'member_gender' : \"string\"\n",
    "\n",
    "> (hint: autor zadania rozwiązał je pisząc funkcję przekształcającą elementy w RDD)"
   ]
  },
  {
   "cell_type": "code",
   "execution_count": 47,
   "metadata": {},
   "outputs": [
    {
     "data": {
      "text/plain": [
       "['int',\n",
       " 'datetime',\n",
       " 'datetime',\n",
       " 'int',\n",
       " 'string',\n",
       " 'float',\n",
       " 'float',\n",
       " 'int',\n",
       " 'string',\n",
       " 'float',\n",
       " 'float',\n",
       " 'int',\n",
       " 'string',\n",
       " 'int',\n",
       " 'string']"
      ]
     },
     "execution_count": 47,
     "metadata": {},
     "output_type": "execute_result"
    }
   ],
   "source": [
    "struct = [\"int\", \n",
    "          \"datetime\", \n",
    "          \"datetime\", \n",
    "          \"int\", \n",
    "          \"string\", \n",
    "          \"float\", \n",
    "          \"float\", \n",
    "          \"int\", \n",
    "          \"string\", \n",
    "          \"float\", \n",
    "          \"float\", \n",
    "          \"int\", \n",
    "          \"string\", \n",
    "          \"int\", \n",
    "          \"string\"]\n",
    "struct"
   ]
  },
  {
   "cell_type": "code",
   "execution_count": 48,
   "metadata": {},
   "outputs": [
    {
     "data": {
      "text/plain": [
       "['duration_sec',\n",
       " 'start_time',\n",
       " 'end_time',\n",
       " 'start_station_id',\n",
       " 'start_station_name',\n",
       " 'start_station_latitude',\n",
       " 'start_station_longitude',\n",
       " 'end_station_id',\n",
       " 'end_station_name',\n",
       " 'end_station_latitude',\n",
       " 'end_station_longitude',\n",
       " 'bike_id',\n",
       " 'user_type',\n",
       " 'member_birth_year',\n",
       " 'member_gender']"
      ]
     },
     "execution_count": 48,
     "metadata": {},
     "output_type": "execute_result"
    }
   ],
   "source": [
    "col_names"
   ]
  },
  {
   "cell_type": "code",
   "execution_count": 69,
   "metadata": {
    "collapsed": true
   },
   "outputs": [],
   "source": [
    "def transform_type(RDD_elem, elem_struct, names, dt_fmt):\n",
    "    out = dict()\n",
    "    for elem, e_type, name in zip(RDD_elem, elem_struct, names):\n",
    "        if e_type == \"int\":\n",
    "            if elem == \"\":\n",
    "                elem = 9999\n",
    "            else:\n",
    "                elem = int(elem)\n",
    "        elif e_type == \"datetime\":\n",
    "            elem = datetime.strptime(elem, dt_fmt)\n",
    "        elif e_type == \"float\":\n",
    "            elem = float(elem)\n",
    "        out[name] = elem\n",
    "    return out"
   ]
  },
  {
   "cell_type": "code",
   "execution_count": 71,
   "metadata": {},
   "outputs": [
    {
     "data": {
      "text/plain": [
       "['80110',\n",
       " '2017-12-31 16:57:39.6540',\n",
       " '2018-01-01 15:12:50.2450',\n",
       " '74',\n",
       " 'Laguna St at Hayes St',\n",
       " '37.776434819204745',\n",
       " '-122.42624402046204',\n",
       " '43',\n",
       " 'San Francisco Public Library (Grove St at Hyde St)',\n",
       " '37.7787677',\n",
       " '-122.4159292',\n",
       " '96',\n",
       " 'Customer',\n",
       " '1987',\n",
       " 'Male']"
      ]
     },
     "execution_count": 71,
     "metadata": {},
     "output_type": "execute_result"
    }
   ],
   "source": [
    "x = transData.take(1)[0]\n",
    "x\n"
   ]
  },
  {
   "cell_type": "code",
   "execution_count": 72,
   "metadata": {},
   "outputs": [
    {
     "data": {
      "text/plain": [
       "{'bike_id': 96,\n",
       " 'duration_sec': 80110,\n",
       " 'end_station_id': 43,\n",
       " 'end_station_latitude': 37.7787677,\n",
       " 'end_station_longitude': -122.4159292,\n",
       " 'end_station_name': 'San Francisco Public Library (Grove St at Hyde St)',\n",
       " 'end_time': datetime.datetime(2018, 1, 1, 15, 12, 50, 245000),\n",
       " 'member_birth_year': 1987,\n",
       " 'member_gender': 'Male',\n",
       " 'start_station_id': 74,\n",
       " 'start_station_latitude': 37.776434819204745,\n",
       " 'start_station_longitude': -122.42624402046204,\n",
       " 'start_station_name': 'Laguna St at Hayes St',\n",
       " 'start_time': datetime.datetime(2017, 12, 31, 16, 57, 39, 654000),\n",
       " 'user_type': 'Customer'}"
      ]
     },
     "execution_count": 72,
     "metadata": {},
     "output_type": "execute_result"
    }
   ],
   "source": [
    "transform_type(x, struct, col_names, dt_format)"
   ]
  },
  {
   "cell_type": "code",
   "execution_count": 78,
   "metadata": {},
   "outputs": [
    {
     "data": {
      "text/plain": [
       "[{'bike_id': 96,\n",
       "  'duration_sec': 80110,\n",
       "  'end_station_id': 43,\n",
       "  'end_station_latitude': 37.7787677,\n",
       "  'end_station_longitude': -122.4159292,\n",
       "  'end_station_name': 'San Francisco Public Library (Grove St at Hyde St)',\n",
       "  'end_time': datetime.datetime(2018, 1, 1, 15, 12, 50, 245000),\n",
       "  'member_birth_year': 1987,\n",
       "  'member_gender': 'Male',\n",
       "  'start_station_id': 74,\n",
       "  'start_station_latitude': 37.776434819204745,\n",
       "  'start_station_longitude': -122.42624402046204,\n",
       "  'start_station_name': 'Laguna St at Hayes St',\n",
       "  'start_time': datetime.datetime(2017, 12, 31, 16, 57, 39, 654000),\n",
       "  'user_type': 'Customer'}]"
      ]
     },
     "execution_count": 78,
     "metadata": {},
     "output_type": "execute_result"
    }
   ],
   "source": [
    "data = transData.map(lambda row: transform_type(row, struct, col_names, dt_format))\n",
    "data.take(1)"
   ]
  },
  {
   "cell_type": "markdown",
   "metadata": {},
   "source": [
    "> **TODO**: Wykonaj cache() na RDD `data`"
   ]
  },
  {
   "cell_type": "code",
   "execution_count": 79,
   "metadata": {},
   "outputs": [
    {
     "data": {
      "text/plain": [
       "PythonRDD[66] at RDD at PythonRDD.scala:48"
      ]
     },
     "execution_count": 79,
     "metadata": {},
     "output_type": "execute_result"
    }
   ],
   "source": [
    "data.cache()"
   ]
  },
  {
   "cell_type": "markdown",
   "metadata": {},
   "source": [
    "> **ZADANIE 1**: Zapoznaj się z danymi:\n",
    "1. Sprawdź rozkład zmiennej \"member_gender\"\n",
    "2. Oblicz minimalny, maksymalny i średni wiek osób wypożyczających rowery\n",
    "3. Oblicz liczbę unikalnych rowerów\n",
    "4. Oblicz liczbę unikalnych stacji\n",
    "5. Sprawdź który rower był wypożyczony najdłużej a który najkrócej w ciągu analizowanego okresu (oraz jak długo)\n",
    "6. Oblicz średni czas pojedynczego wypożyczenia\n",
    "7. Sprawdź pomiędzy którymi stacjami występował największy ruch\n",
    "8. Sprawdź o której godzinie w ciągu dnia wypożyczano najwięcej rowerów\n",
    "9. Sprawdź *średnią liczbę wypożyczeń* dla poszczególnych dni tygodnia\n",
    "10. Oblicz średni dystans (w km) pomiędzy stacją początkową a końcową dla wszystkich wypożyczeń"
   ]
  },
  {
   "cell_type": "code",
   "execution_count": 120,
   "metadata": {},
   "outputs": [
    {
     "data": {
      "text/plain": [
       "[('', 66462), ('Male', 348318), ('Female', 98621), ('Other', 6299)]"
      ]
     },
     "execution_count": 120,
     "metadata": {},
     "output_type": "execute_result"
    }
   ],
   "source": [
    "#1\n",
    "data.map(lambda x: (x[\"member_gender\"], 1)).reduceByKey(lambda x,y: x+y).collect()"
   ]
  },
  {
   "cell_type": "code",
   "execution_count": 129,
   "metadata": {},
   "outputs": [
    {
     "data": {
      "text/plain": [
       "[19, 132, 37.59521271783174]"
      ]
     },
     "execution_count": 129,
     "metadata": {},
     "output_type": "execute_result"
    }
   ],
   "source": [
    "#2\n",
    "[\n",
    "data.filter(lambda x: x['member_birth_year'] != 9999).map(lambda x: 2018 - x['member_birth_year']).min(),\\\n",
    "data.filter(lambda x: x['member_birth_year'] != 9999).map(lambda x: 2018 - x['member_birth_year']).max(),\\\n",
    "data.filter(lambda x: x['member_birth_year'] != 9999).map(lambda x: 2018 - x['member_birth_year']).mean()\n",
    "]\n"
   ]
  },
  {
   "cell_type": "code",
   "execution_count": 114,
   "metadata": {},
   "outputs": [
    {
     "data": {
      "text/plain": [
       "3673"
      ]
     },
     "execution_count": 114,
     "metadata": {},
     "output_type": "execute_result"
    }
   ],
   "source": [
    "#3\n",
    "data.map(lambda x: x['bike_id']).distinct().count()"
   ]
  },
  {
   "cell_type": "code",
   "execution_count": 124,
   "metadata": {},
   "outputs": [
    {
     "data": {
      "text/plain": [
       "272"
      ]
     },
     "execution_count": 124,
     "metadata": {},
     "output_type": "execute_result"
    }
   ],
   "source": [
    "#4\n",
    "data.map(lambda x: x['start_station_id']).distinct().count()"
   ]
  },
  {
   "cell_type": "code",
   "execution_count": null,
   "metadata": {
    "collapsed": true
   },
   "outputs": [],
   "source": []
  },
  {
   "cell_type": "code",
   "execution_count": null,
   "metadata": {
    "collapsed": true
   },
   "outputs": [],
   "source": []
  },
  {
   "cell_type": "code",
   "execution_count": null,
   "metadata": {
    "collapsed": true
   },
   "outputs": [],
   "source": []
  },
  {
   "cell_type": "code",
   "execution_count": null,
   "metadata": {
    "collapsed": true
   },
   "outputs": [],
   "source": []
  },
  {
   "cell_type": "code",
   "execution_count": null,
   "metadata": {
    "collapsed": true
   },
   "outputs": [],
   "source": []
  },
  {
   "cell_type": "code",
   "execution_count": null,
   "metadata": {
    "collapsed": true
   },
   "outputs": [],
   "source": []
  },
  {
   "cell_type": "code",
   "execution_count": null,
   "metadata": {
    "collapsed": true
   },
   "outputs": [],
   "source": []
  },
  {
   "cell_type": "code",
   "execution_count": null,
   "metadata": {
    "collapsed": true
   },
   "outputs": [],
   "source": []
  },
  {
   "cell_type": "markdown",
   "metadata": {},
   "source": [
    "> **ZADANIE 2**: Utwórz RDD `dataDaily` zawierające dane zagregowane do poziomu dnia. Każdy dzień w roku (element w RDD) ma zawierać następujące informacje: \n",
    "- 'date' : data \n",
    "- 'avg_duration_sec' : średni czas wypożyczeń danego dnia\n",
    "- 'n_trips' : liczba wypożyczeń danego dnia\n",
    "- 'n_bikes' : liczba unikatowych rowerów użytych danego dnia\n",
    "- 'n_routes' : liczba unikatowych kombinacji stacji (x -> y == y -> x) danego dnia\n",
    "- 'n_subscriber' : liczba wypożyczeń dokonanych przez subskrybentów danego dnia"
   ]
  },
  {
   "cell_type": "code",
   "execution_count": null,
   "metadata": {
    "collapsed": true
   },
   "outputs": [],
   "source": []
  },
  {
   "cell_type": "code",
   "execution_count": null,
   "metadata": {
    "collapsed": true
   },
   "outputs": [],
   "source": []
  },
  {
   "cell_type": "code",
   "execution_count": null,
   "metadata": {
    "collapsed": true
   },
   "outputs": [],
   "source": []
  },
  {
   "cell_type": "code",
   "execution_count": null,
   "metadata": {
    "collapsed": true
   },
   "outputs": [],
   "source": []
  },
  {
   "cell_type": "code",
   "execution_count": null,
   "metadata": {
    "collapsed": true
   },
   "outputs": [],
   "source": []
  },
  {
   "cell_type": "code",
   "execution_count": null,
   "metadata": {
    "collapsed": true
   },
   "outputs": [],
   "source": []
  },
  {
   "cell_type": "code",
   "execution_count": null,
   "metadata": {
    "collapsed": true
   },
   "outputs": [],
   "source": []
  },
  {
   "cell_type": "code",
   "execution_count": null,
   "metadata": {
    "collapsed": true
   },
   "outputs": [],
   "source": []
  },
  {
   "cell_type": "markdown",
   "metadata": {
    "collapsed": true
   },
   "source": [
    "> **⋆ ZADANIE 3**: Utwórz RDD klucz-wartość `bikeDaily` zawierające po jednym elemencie dla każdego `\"bike_id\"`. Wartościami w RDD mają być listy całkowitego dziennego wykorzystania danego roweru w sekundach (elementy listy uszeregowane chronologicznie). \n",
    "- kryterium zaliczenia danego wypożyczenia do konkretnego dnia jest moment startu\n",
    "- wszystkie rowery mają mieć listy jednakowej długości"
   ]
  },
  {
   "cell_type": "code",
   "execution_count": null,
   "metadata": {
    "collapsed": true
   },
   "outputs": [],
   "source": []
  },
  {
   "cell_type": "code",
   "execution_count": null,
   "metadata": {
    "collapsed": true
   },
   "outputs": [],
   "source": []
  },
  {
   "cell_type": "code",
   "execution_count": null,
   "metadata": {
    "collapsed": true
   },
   "outputs": [],
   "source": []
  },
  {
   "cell_type": "code",
   "execution_count": null,
   "metadata": {
    "collapsed": true
   },
   "outputs": [],
   "source": []
  },
  {
   "cell_type": "code",
   "execution_count": null,
   "metadata": {
    "collapsed": true
   },
   "outputs": [],
   "source": []
  },
  {
   "cell_type": "code",
   "execution_count": null,
   "metadata": {
    "collapsed": true
   },
   "outputs": [],
   "source": []
  },
  {
   "cell_type": "code",
   "execution_count": null,
   "metadata": {
    "collapsed": true
   },
   "outputs": [],
   "source": []
  },
  {
   "cell_type": "code",
   "execution_count": null,
   "metadata": {
    "collapsed": true
   },
   "outputs": [],
   "source": []
  },
  {
   "cell_type": "code",
   "execution_count": null,
   "metadata": {
    "collapsed": true
   },
   "outputs": [],
   "source": []
  },
  {
   "cell_type": "code",
   "execution_count": null,
   "metadata": {
    "collapsed": true
   },
   "outputs": [],
   "source": []
  },
  {
   "cell_type": "markdown",
   "metadata": {},
   "source": [
    "### Przetwarzanie tekstu\n",
    "[Project Gutenberg](http://www.gutenberg.org/)\n",
    "> **ZADANIE 4**: Wstępnie przetwórz i zbadaj Moby Dicka\n",
    "1. usuń puste linie, tytuł i nazwy rozdziałów, wynik zapisz jako `textOnlyMD`\n",
    "2. policz ile słów znajduje się w tekście (—)\n",
    "3. policz ile unikalnych słów występuje w tekście (\"\"\".,;:()!?'\"$&%*[]’”\"\"\")\n",
    "4. znajdź 10 najczęstszych słów\n",
    "5. sprawdź jak często wystepowało slowo \"whale\""
   ]
  },
  {
   "cell_type": "code",
   "execution_count": null,
   "metadata": {
    "collapsed": true
   },
   "outputs": [],
   "source": [
    "rawMD = sc.textFile(\"MobyDick.txt\")\n",
    "rawMD.take(10)"
   ]
  },
  {
   "cell_type": "code",
   "execution_count": null,
   "metadata": {
    "collapsed": true
   },
   "outputs": [],
   "source": []
  },
  {
   "cell_type": "code",
   "execution_count": null,
   "metadata": {
    "collapsed": true
   },
   "outputs": [],
   "source": []
  },
  {
   "cell_type": "code",
   "execution_count": null,
   "metadata": {
    "collapsed": true
   },
   "outputs": [],
   "source": []
  },
  {
   "cell_type": "code",
   "execution_count": null,
   "metadata": {
    "collapsed": true
   },
   "outputs": [],
   "source": []
  },
  {
   "cell_type": "code",
   "execution_count": null,
   "metadata": {
    "collapsed": true
   },
   "outputs": [],
   "source": []
  },
  {
   "cell_type": "markdown",
   "metadata": {},
   "source": [
    "> **⋆ ZADANIE 5**: Wstępnie przetwórz i zbadaj książki\n",
    "1. usuń puste linie, tytuł i nazwy rozdziałów, podziel teksty na poszczególne linijki -  wynik zapisz jako `textOnlyBooks`\n",
    "2. policz ile słów znajduje się w każdej książce\n",
    "3. policz ile unikalnych słów występuje w każdej książce\n",
    "4. policz ile unikalnych słów występuje we wszystkich książkach\n",
    "4. znajdź 10 najczęstszych słów dla każdej książki\n",
    "5. oblicz liczbę unikalnych słów które występują w danej książce a nie występują w pozostałych"
   ]
  },
  {
   "cell_type": "code",
   "execution_count": null,
   "metadata": {
    "collapsed": true
   },
   "outputs": [],
   "source": [
    "rawBooks = sc.wholeTextFiles(\"./MobyDick.txt,AlicesAdventuresInWonderland.txt,TheHoundOfTheBaskervilles.txt\")\n",
    "rawBooks.mapValues(lambda x: x[:200]).collect()"
   ]
  },
  {
   "cell_type": "code",
   "execution_count": null,
   "metadata": {
    "collapsed": true
   },
   "outputs": [],
   "source": []
  },
  {
   "cell_type": "code",
   "execution_count": null,
   "metadata": {
    "collapsed": true
   },
   "outputs": [],
   "source": []
  },
  {
   "cell_type": "code",
   "execution_count": null,
   "metadata": {
    "collapsed": true
   },
   "outputs": [],
   "source": []
  },
  {
   "cell_type": "code",
   "execution_count": null,
   "metadata": {
    "collapsed": true
   },
   "outputs": [],
   "source": []
  },
  {
   "cell_type": "code",
   "execution_count": null,
   "metadata": {
    "collapsed": true
   },
   "outputs": [],
   "source": []
  },
  {
   "cell_type": "code",
   "execution_count": null,
   "metadata": {
    "collapsed": true
   },
   "outputs": [],
   "source": []
  }
 ],
 "metadata": {
  "kernelspec": {
   "display_name": "Python 3",
   "language": "python",
   "name": "python3"
  },
  "language_info": {
   "codemirror_mode": {
    "name": "ipython",
    "version": 3
   },
   "file_extension": ".py",
   "mimetype": "text/x-python",
   "name": "python",
   "nbconvert_exporter": "python",
   "pygments_lexer": "ipython3",
   "version": "3.6.3"
  }
 },
 "nbformat": 4,
 "nbformat_minor": 2
}
